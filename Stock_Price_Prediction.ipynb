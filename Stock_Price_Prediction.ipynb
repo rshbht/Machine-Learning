{
  "nbformat": 4,
  "nbformat_minor": 0,
  "metadata": {
    "colab": {
      "provenance": []
    },
    "kernelspec": {
      "name": "python3",
      "display_name": "Python 3"
    },
    "language_info": {
      "name": "python"
    }
  },
  "cells": [
    {
      "cell_type": "code",
      "source": [
        "import pandas as pd\n",
        "import numpy as np\n",
        "import matplotlib.pyplot as plt\n",
        "from sklearn.linear_model import LinearRegression\n",
        "from sklearn.model_selection import train_test_split\n",
        "from sklearn.metrics import r2_score\n",
        "\n",
        "# Load the historical stock price data into a Pandas DataFrame\n",
        "df = pd.read_csv('stock_prices.csv')\n",
        "\n",
        "# Split the data into training and testing datasets\n",
        "X_train, X_test, y_train, y_test = train_test_split(df[['Open', 'High', 'Low', 'Volume']], df['Close'], test_size=0.3, random_state=42)\n",
        "\n",
        "# Create a Linear Regression model and train it on the training data\n",
        "model = LinearRegression()\n",
        "model.fit(X_train, y_train)\n",
        "\n",
        "# Predict the stock prices using the testing data\n",
        "y_pred = model.predict(X_test)\n",
        "\n",
        "# Evaluate the model using the R-squared score\n",
        "r2 = r2_score(y_test, y_pred)\n",
        "print('R-squared:', r2)\n",
        "\n",
        "# Plot the predicted vs. actual stock prices\n",
        "plt.plot(y_test.values, label='Actual')\n",
        "plt.plot(y_pred, label='Predicted')\n",
        "plt.legend()\n",
        "plt.show()\n"
      ],
      "metadata": {
        "id": "yn17FZ9COxO6"
      },
      "execution_count": null,
      "outputs": []
    }
  ]
}